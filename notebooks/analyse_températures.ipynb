{
 "cells": [
  {
   "cell_type": "code",
   "execution_count": 1,
   "id": "f8c11756",
   "metadata": {},
   "outputs": [],
   "source": [
    "import pandas as pd\n",
    "import numpy as np\n",
    "import matplotlib.pyplot as plt\n",
    "import seaborn as sns"
   ]
  },
  {
   "cell_type": "code",
   "execution_count": 6,
   "id": "e8072120",
   "metadata": {},
   "outputs": [],
   "source": [
    "file_path= r\"C:\\Users\\etudiant\\analyse-meteo\\data\\Ventv.csv\""
   ]
  },
  {
   "cell_type": "code",
   "execution_count": 8,
   "id": "a21856b9",
   "metadata": {},
   "outputs": [],
   "source": [
    "df=pd.read_csv(file_path)"
   ]
  },
  {
   "cell_type": "code",
   "execution_count": 9,
   "id": "e5610e37",
   "metadata": {},
   "outputs": [
    {
     "name": "stdout",
     "output_type": "stream",
     "text": [
      "Aperçu des données :\n"
     ]
    },
    {
     "data": {
      "text/html": [
       "<div>\n",
       "<style scoped>\n",
       "    .dataframe tbody tr th:only-of-type {\n",
       "        vertical-align: middle;\n",
       "    }\n",
       "\n",
       "    .dataframe tbody tr th {\n",
       "        vertical-align: top;\n",
       "    }\n",
       "\n",
       "    .dataframe thead th {\n",
       "        text-align: right;\n",
       "    }\n",
       "</style>\n",
       "<table border=\"1\" class=\"dataframe\">\n",
       "  <thead>\n",
       "    <tr style=\"text-align: right;\">\n",
       "      <th></th>\n",
       "      <th>NUM_POSTE</th>\n",
       "      <th>NOM_USUEL</th>\n",
       "      <th>LAT</th>\n",
       "      <th>LON</th>\n",
       "      <th>ALTI</th>\n",
       "      <th>AAAAMMJJ</th>\n",
       "      <th>RR</th>\n",
       "      <th>QRR</th>\n",
       "      <th>TN</th>\n",
       "      <th>QTN</th>\n",
       "      <th>...</th>\n",
       "      <th>HXI2</th>\n",
       "      <th>QHXI2</th>\n",
       "      <th>FXI3S</th>\n",
       "      <th>QFXI3S</th>\n",
       "      <th>DXI3S</th>\n",
       "      <th>QDXI3S</th>\n",
       "      <th>HXI3S</th>\n",
       "      <th>QHXI3S</th>\n",
       "      <th>DRR</th>\n",
       "      <th>QDRR</th>\n",
       "    </tr>\n",
       "  </thead>\n",
       "  <tbody>\n",
       "    <tr>\n",
       "      <th>0</th>\n",
       "      <td>1004003</td>\n",
       "      <td>AMBERIEU</td>\n",
       "      <td>45.955</td>\n",
       "      <td>5.348333</td>\n",
       "      <td>249</td>\n",
       "      <td>18770101</td>\n",
       "      <td>0.0</td>\n",
       "      <td>1</td>\n",
       "      <td>NaN</td>\n",
       "      <td>NaN</td>\n",
       "      <td>...</td>\n",
       "      <td>NaN</td>\n",
       "      <td>NaN</td>\n",
       "      <td>NaN</td>\n",
       "      <td>NaN</td>\n",
       "      <td>NaN</td>\n",
       "      <td>NaN</td>\n",
       "      <td>NaN</td>\n",
       "      <td>NaN</td>\n",
       "      <td>NaN</td>\n",
       "      <td>NaN</td>\n",
       "    </tr>\n",
       "    <tr>\n",
       "      <th>1</th>\n",
       "      <td>1004003</td>\n",
       "      <td>AMBERIEU</td>\n",
       "      <td>45.955</td>\n",
       "      <td>5.348333</td>\n",
       "      <td>249</td>\n",
       "      <td>18770102</td>\n",
       "      <td>16.0</td>\n",
       "      <td>1</td>\n",
       "      <td>NaN</td>\n",
       "      <td>NaN</td>\n",
       "      <td>...</td>\n",
       "      <td>NaN</td>\n",
       "      <td>NaN</td>\n",
       "      <td>NaN</td>\n",
       "      <td>NaN</td>\n",
       "      <td>NaN</td>\n",
       "      <td>NaN</td>\n",
       "      <td>NaN</td>\n",
       "      <td>NaN</td>\n",
       "      <td>NaN</td>\n",
       "      <td>NaN</td>\n",
       "    </tr>\n",
       "    <tr>\n",
       "      <th>2</th>\n",
       "      <td>1004003</td>\n",
       "      <td>AMBERIEU</td>\n",
       "      <td>45.955</td>\n",
       "      <td>5.348333</td>\n",
       "      <td>249</td>\n",
       "      <td>18770103</td>\n",
       "      <td>0.0</td>\n",
       "      <td>1</td>\n",
       "      <td>NaN</td>\n",
       "      <td>NaN</td>\n",
       "      <td>...</td>\n",
       "      <td>NaN</td>\n",
       "      <td>NaN</td>\n",
       "      <td>NaN</td>\n",
       "      <td>NaN</td>\n",
       "      <td>NaN</td>\n",
       "      <td>NaN</td>\n",
       "      <td>NaN</td>\n",
       "      <td>NaN</td>\n",
       "      <td>NaN</td>\n",
       "      <td>NaN</td>\n",
       "    </tr>\n",
       "    <tr>\n",
       "      <th>3</th>\n",
       "      <td>1004003</td>\n",
       "      <td>AMBERIEU</td>\n",
       "      <td>45.955</td>\n",
       "      <td>5.348333</td>\n",
       "      <td>249</td>\n",
       "      <td>18770104</td>\n",
       "      <td>8.0</td>\n",
       "      <td>1</td>\n",
       "      <td>NaN</td>\n",
       "      <td>NaN</td>\n",
       "      <td>...</td>\n",
       "      <td>NaN</td>\n",
       "      <td>NaN</td>\n",
       "      <td>NaN</td>\n",
       "      <td>NaN</td>\n",
       "      <td>NaN</td>\n",
       "      <td>NaN</td>\n",
       "      <td>NaN</td>\n",
       "      <td>NaN</td>\n",
       "      <td>NaN</td>\n",
       "      <td>NaN</td>\n",
       "    </tr>\n",
       "    <tr>\n",
       "      <th>4</th>\n",
       "      <td>1004003</td>\n",
       "      <td>AMBERIEU</td>\n",
       "      <td>45.955</td>\n",
       "      <td>5.348333</td>\n",
       "      <td>249</td>\n",
       "      <td>18770105</td>\n",
       "      <td>5.0</td>\n",
       "      <td>1</td>\n",
       "      <td>NaN</td>\n",
       "      <td>NaN</td>\n",
       "      <td>...</td>\n",
       "      <td>NaN</td>\n",
       "      <td>NaN</td>\n",
       "      <td>NaN</td>\n",
       "      <td>NaN</td>\n",
       "      <td>NaN</td>\n",
       "      <td>NaN</td>\n",
       "      <td>NaN</td>\n",
       "      <td>NaN</td>\n",
       "      <td>NaN</td>\n",
       "      <td>NaN</td>\n",
       "    </tr>\n",
       "  </tbody>\n",
       "</table>\n",
       "<p>5 rows × 58 columns</p>\n",
       "</div>"
      ],
      "text/plain": [
       "   NUM_POSTE NOM_USUEL     LAT       LON  ALTI  AAAAMMJJ    RR  QRR  TN  QTN  \\\n",
       "0    1004003  AMBERIEU  45.955  5.348333   249  18770101   0.0    1 NaN  NaN   \n",
       "1    1004003  AMBERIEU  45.955  5.348333   249  18770102  16.0    1 NaN  NaN   \n",
       "2    1004003  AMBERIEU  45.955  5.348333   249  18770103   0.0    1 NaN  NaN   \n",
       "3    1004003  AMBERIEU  45.955  5.348333   249  18770104   8.0    1 NaN  NaN   \n",
       "4    1004003  AMBERIEU  45.955  5.348333   249  18770105   5.0    1 NaN  NaN   \n",
       "\n",
       "   ...  HXI2  QHXI2  FXI3S  QFXI3S  DXI3S  QDXI3S  HXI3S  QHXI3S  DRR  QDRR  \n",
       "0  ...   NaN    NaN    NaN     NaN    NaN     NaN    NaN     NaN  NaN   NaN  \n",
       "1  ...   NaN    NaN    NaN     NaN    NaN     NaN    NaN     NaN  NaN   NaN  \n",
       "2  ...   NaN    NaN    NaN     NaN    NaN     NaN    NaN     NaN  NaN   NaN  \n",
       "3  ...   NaN    NaN    NaN     NaN    NaN     NaN    NaN     NaN  NaN   NaN  \n",
       "4  ...   NaN    NaN    NaN     NaN    NaN     NaN    NaN     NaN  NaN   NaN  \n",
       "\n",
       "[5 rows x 58 columns]"
      ]
     },
     "metadata": {},
     "output_type": "display_data"
    }
   ],
   "source": [
    "# Afficher les premières lignes du fichier pour vérifier son contenu\n",
    "print(\"Aperçu des données :\")\n",
    "display(df.head())\n"
   ]
  },
  {
   "cell_type": "code",
   "execution_count": 14,
   "id": "14492eaa",
   "metadata": {},
   "outputs": [
    {
     "name": "stdout",
     "output_type": "stream",
     "text": [
      "Moyenne de la température : 45.95\n",
      "Écart-type de la température : 0.00\n"
     ]
    }
   ],
   "source": [
    "# Vérifier si la colonne 'temp' existe\n",
    "if 'LAT' in df.columns:\n",
    "# Calcul de la moyenne et de l'écart-type\n",
    "    mean_temp = df['LAT'].mean()\n",
    "    std_temp = df['LAT'].std()\n",
    "\n",
    "    print(f\"Moyenne de la température : {mean_temp:.2f}\")\n",
    "    print(f\"Écart-type de la température : {std_temp:.2f}\")\n"
   ]
  },
  {
   "cell_type": "code",
   "execution_count": null,
   "id": "08eb3da1",
   "metadata": {},
   "outputs": [],
   "source": []
  },
  {
   "cell_type": "code",
   "execution_count": 16,
   "id": "21c78188",
   "metadata": {
    "scrolled": true
   },
   "outputs": [
    {
     "data": {
      "image/png": "[encoded data removed]",
      "text/plain": [
       "<Figure size 1000x500 with 1 Axes>"
      ]
     },
     "metadata": {},
     "output_type": "display_data"
    }
   ],
   "source": [
    "# Visualisation avec Matplotlib\n",
    "plt.figure(figsize=(10,5))\n",
    "plt.hist(df['LAT'], bins=20, edgecolor='black', alpha=0.7)\n",
    "plt.axvline(mean_temp, color='red', linestyle='dashed', linewidth=2, label=f'Moyenne: {mean_temp:.2f}')\n",
    "plt.axvline(mean_temp + std_temp, color='blue', linestyle='dashed', linewidth=2, label=f'+1 Écart-type: {mean_temp + std_temp:.2f}')\n",
    "plt.axvline(mean_temp - std_temp, color='blue', linestyle='dashed', linewidth=2, label=f'-1 Écart-type: {mean_temp - std_temp:.2f}')\n",
    "plt.xlabel(\"Température\")\n",
    "plt.ylabel(\"Fréquence\")\n",
    "plt.title(\"Distribution des Températures\")\n",
    "plt.legend()\n",
    "plt.show()"
   ]
  },
  {
   "cell_type": "code",
   "execution_count": null,
   "id": "2fdb0efc",
   "metadata": {},
   "outputs": [],
   "source": []
  }
 ],
 "metadata": {
  "kernelspec": {
   "display_name": "Python 3 (ipykernel)",
   "language": "python",
   "name": "python3"
  },
  "language_info": {
   "codemirror_mode": {
    "name": "ipython",
    "version": 3
   },
   "file_extension": ".py",
   "mimetype": "text/x-python",
   "name": "python",
   "nbconvert_exporter": "python",
   "pygments_lexer": "ipython3",
   "version": "3.11.5"
  }
 },
 "nbformat": 4,
 "nbformat_minor": 5
}
